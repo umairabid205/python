{
 "cells": [
  {
   "cell_type": "code",
   "execution_count": null,
   "metadata": {},
   "outputs": [],
   "source": []
  },
  {
   "cell_type": "markdown",
   "metadata": {},
   "source": [
    "<h1>--> Agregation (Has-A-Relation)</h1>\n",
    "<h1>--> inheritance</h1>"
   ]
  },
  {
   "cell_type": "code",
   "execution_count": null,
   "metadata": {},
   "outputs": [],
   "source": [
    "# perent class definition\n",
    "class Customer:\n",
    "    #constructor\n",
    "    def __init__(self,name,gender,address):\n",
    "        self.name = name\n",
    "        self.gender= gender\n",
    "        self.address = address\n",
    "    \n",
    "    #method to print customer details\n",
    "    def print_address(self):\n",
    "\n",
    "        print(self.address.get_city()) # calling child class method to print the private attribute\n",
    "        print(self.address.pin)\n",
    "        print(self.address.state)\n",
    "\n",
    "\n",
    "#child class definition\n",
    "class Address:\n",
    "    def __init__(self,city,pin,state):\n",
    "        self.__city = city # private attribute \n",
    "        self.pin = pin\n",
    "        self.state = state\n",
    "\n",
    "    def get_city(self):\n",
    "        return self.__city  \n",
    "    \n"
   ]
  },
  {
   "cell_type": "code",
   "execution_count": 70,
   "metadata": {},
   "outputs": [],
   "source": [
    "# creating object of child class\n",
    "add = Address(\"Lahore\",560037,\"Punjab\")\n",
    "# creating object of parent class and passing object of child class\n",
    "cust = Customer(\"Ali\",\"male\",add)"
   ]
  },
  {
   "cell_type": "code",
   "execution_count": 71,
   "metadata": {},
   "outputs": [
    {
     "name": "stdout",
     "output_type": "stream",
     "text": [
      "Lahore\n",
      "560037\n",
      "Punjab\n"
     ]
    }
   ],
   "source": [
    "cust.print_address()"
   ]
  },
  {
   "cell_type": "code",
   "execution_count": null,
   "metadata": {},
   "outputs": [],
   "source": [
    "#"
   ]
  }
 ],
 "metadata": {
  "kernelspec": {
   "display_name": "base",
   "language": "python",
   "name": "python3"
  },
  "language_info": {
   "codemirror_mode": {
    "name": "ipython",
    "version": 3
   },
   "file_extension": ".py",
   "mimetype": "text/x-python",
   "name": "python",
   "nbconvert_exporter": "python",
   "pygments_lexer": "ipython3",
   "version": "3.12.4"
  }
 },
 "nbformat": 4,
 "nbformat_minor": 2
}
