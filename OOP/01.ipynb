{
 "cells": [
  {
   "cell_type": "code",
   "execution_count": null,
   "metadata": {},
   "outputs": [],
   "source": []
  },
  {
   "cell_type": "markdown",
   "metadata": {},
   "source": [
    "<h1>OOP</h1>\n",
    "\n",
    "--> Data Type is a class\n",
    "<br>--> When we create variables of that class is called object of that class\n",
    "<h3>For Example</h3>\n",
    "-->> class is creating blue print of list that how the list will work\n"
   ]
  },
  {
   "cell_type": "markdown",
   "metadata": {},
   "source": [
    "<h3>Class</h3>\n",
    "--> class is a blue print. How that blue print of object will work or behave."
   ]
  },
  {
   "cell_type": "code",
   "execution_count": 54,
   "metadata": {},
   "outputs": [],
   "source": [
    "# Class has two things\n",
    "# --> 1) Attributes\n",
    "# --> 2) Methods\n",
    "class Car:\n",
    "    color = \"red\" # Attribute\n",
    "    model = \"BMW\" # Attribute\n",
    "\n",
    "    # Method\n",
    "    def calculate_speed(self):\n",
    "        print(\"Speed is 100 mph\")"
   ]
  },
  {
   "cell_type": "markdown",
   "metadata": {},
   "source": [
    "<h1>Note:</h1>\n",
    "--> Name of class should be PascalCase for example ThisIsPascalCase<br>\n",
    "--> The name of attributes and mothods should be snake_case"
   ]
  },
  {
   "cell_type": "code",
   "execution_count": 55,
   "metadata": {},
   "outputs": [],
   "source": [
    "class Atm:\n",
    "\n",
    "    # constuctor\n",
    "    def __init__(self, pin,balance):\n",
    "        self.pin = pin\n",
    "        self.balance = balance\n",
    "\n",
    "    "
   ]
  },
  {
   "cell_type": "code",
   "execution_count": 56,
   "metadata": {},
   "outputs": [],
   "source": [
    "obj = Atm(1234,1000)"
   ]
  },
  {
   "cell_type": "code",
   "execution_count": 57,
   "metadata": {},
   "outputs": [
    {
     "name": "stdout",
     "output_type": "stream",
     "text": [
      "<class '__main__.Atm'>\n"
     ]
    }
   ],
   "source": [
    "print(type(obj))"
   ]
  },
  {
   "cell_type": "code",
   "execution_count": 58,
   "metadata": {},
   "outputs": [
    {
     "name": "stdout",
     "output_type": "stream",
     "text": [
      "1234\n",
      "1000\n"
     ]
    }
   ],
   "source": [
    "print(obj.pin)\n",
    "print(obj.balance)"
   ]
  },
  {
   "cell_type": "code",
   "execution_count": 59,
   "metadata": {},
   "outputs": [],
   "source": [
    "# impove the class\n",
    "class Atm:\n",
    "\n",
    "    # constuctor\n",
    "    def __init__(self):\n",
    "        self.pin = ''\n",
    "        self.__balance = 0\n",
    "        self.menu()              # calling the menu method in the constructor\n",
    "\n",
    "    \n",
    "    # Method of menu which will display the menu\n",
    "    def menu(self):\n",
    "        user_input = input(\"\"\"\n",
    "        Hi, Welcome to the ATM\n",
    "        Please select an option:\n",
    "        1. Create Pin\n",
    "        2. Change Pin\n",
    "        3. Check Balance\n",
    "        4. Withdraw\n",
    "        5. Deposit \n",
    "        6. Exit\n",
    "                             \"\"\")\n",
    "        # calling the method based on the user input\n",
    "        if user_input == '1':\n",
    "            self.create_pin()\n",
    "        elif user_input == '2':\n",
    "            self.change_pin()\n",
    "        elif user_input == '3':\n",
    "            self.check_balance()\n",
    "        elif user_input == '4':\n",
    "            self.withdraw()\n",
    "        elif user_input == '5':\n",
    "            self.deposit()\n",
    "        elif user_input == '6':\n",
    "            self.exit()\n",
    "        else:\n",
    "            print(\"Invalid Input\")\n",
    "            \n",
    "\n",
    "    # Method to create pin\n",
    "    def create_pin(self):\n",
    "        self.pin = input(\"Enter a 4 digit pin: \")\n",
    "        print(\"Pin created successfully\")\n",
    "   \n",
    "    # Method to change pin\n",
    "    def change_pin(self):    \n",
    "        self.pin = input(\"Enter a 4 digit pin: \")\n",
    "        print(\"Pin changed successfully\")\n",
    "\n",
    "    # Method to check balance\n",
    "    def check_balance(self):\n",
    "        print(f\"Your balance is {self.__balance}\")\n",
    "\n",
    "    # Method to withdraw\n",
    "    def withdraw(self):   \n",
    "        amount = input(\"Enter the amount you want to withdraw: \")\n",
    "        if int(amount) > int(self.__balance):\n",
    "            print(\"Insufficient balance\")\n",
    "        else:\n",
    "            self.__balance = int(self.__balance) - int(amount)\n",
    "            print(\"Amount withdrawn successfully\")\n",
    "    # Method to deposit\n",
    "    def deposit(self):   \n",
    "        amount = input(\"Enter the amount you want to deposit: \")\n",
    "        self.__balance = int(self.__balance) + int(amount)\n",
    "        print(\"Amount deposited successfully\")\n",
    "\n",
    "    # Method to exit\n",
    "    def exit(self):\n",
    "        print(\"Thank you for using the ATM\")\n",
    "        exit()\n",
    "\n",
    "    # Getter and Setter methods\n",
    "    def get_balance(self):\n",
    "        return self.__balance\n",
    "    \n",
    "    def set_balance(self, new_balance):\n",
    "        self.__balance = new_balance"
   ]
  },
  {
   "cell_type": "code",
   "execution_count": 60,
   "metadata": {},
   "outputs": [
    {
     "name": "stdout",
     "output_type": "stream",
     "text": [
      "Amount deposited successfully\n"
     ]
    }
   ],
   "source": [
    "obj= Atm()"
   ]
  },
  {
   "cell_type": "code",
   "execution_count": 61,
   "metadata": {},
   "outputs": [
    {
     "data": {
      "text/plain": [
       "10000"
      ]
     },
     "execution_count": 61,
     "metadata": {},
     "output_type": "execute_result"
    }
   ],
   "source": [
    "# getter method to get the value of balance\n",
    "obj.get_balance()"
   ]
  },
  {
   "cell_type": "code",
   "execution_count": 71,
   "metadata": {},
   "outputs": [],
   "source": [
    "# setter method to set the value of balance\n",
    "obj.set_balance(5000)"
   ]
  },
  {
   "cell_type": "code",
   "execution_count": 72,
   "metadata": {},
   "outputs": [
    {
     "data": {
      "text/plain": [
       "5000"
      ]
     },
     "execution_count": 72,
     "metadata": {},
     "output_type": "execute_result"
    }
   ],
   "source": [
    "# value of balance is updated\n",
    "obj.get_balance()"
   ]
  },
  {
   "cell_type": "code",
   "execution_count": 62,
   "metadata": {},
   "outputs": [],
   "source": [
    "# Self is used to access the attributes and methods of the class\n",
    "# Self is used to create the instance of the class\n",
    "# Self is used to access the constructor of the class\n",
    "# Self is object of the class   obj = Atm()  obj is self\n"
   ]
  },
  {
   "cell_type": "code",
   "execution_count": 63,
   "metadata": {},
   "outputs": [],
   "source": [
    "# object withou a reference\n",
    "class Person:\n",
    "\n",
    "    def __init__(self):\n",
    "        self.name = \"Umair Abid\"\n",
    "        self.gender = \"male\"\n",
    "    "
   ]
  },
  {
   "cell_type": "code",
   "execution_count": 64,
   "metadata": {},
   "outputs": [
    {
     "data": {
      "text/plain": [
       "<__main__.Person at 0x10c844440>"
      ]
     },
     "execution_count": 64,
     "metadata": {},
     "output_type": "execute_result"
    }
   ],
   "source": [
    "Person() # object without a reference"
   ]
  },
  {
   "cell_type": "code",
   "execution_count": 65,
   "metadata": {},
   "outputs": [],
   "source": [
    "p = Person() # object with a reference  "
   ]
  },
  {
   "cell_type": "code",
   "execution_count": 66,
   "metadata": {},
   "outputs": [
    {
     "data": {
      "text/plain": [
       "'Umair Abid'"
      ]
     },
     "execution_count": 66,
     "metadata": {},
     "output_type": "execute_result"
    }
   ],
   "source": [
    "p.name # accessing the attribute of the class"
   ]
  },
  {
   "cell_type": "code",
   "execution_count": 67,
   "metadata": {},
   "outputs": [
    {
     "data": {
      "text/plain": [
       "'male'"
      ]
     },
     "execution_count": 67,
     "metadata": {},
     "output_type": "execute_result"
    }
   ],
   "source": [
    "p.gender # accessing the attribute of the class"
   ]
  },
  {
   "cell_type": "code",
   "execution_count": 68,
   "metadata": {},
   "outputs": [
    {
     "data": {
      "text/plain": [
       "'Umair Abid'"
      ]
     },
     "execution_count": 68,
     "metadata": {},
     "output_type": "execute_result"
    }
   ],
   "source": [
    "Person().name # accessing the attribute of the class"
   ]
  },
  {
   "cell_type": "code",
   "execution_count": 69,
   "metadata": {},
   "outputs": [
    {
     "data": {
      "text/plain": [
       "'male'"
      ]
     },
     "execution_count": 69,
     "metadata": {},
     "output_type": "execute_result"
    }
   ],
   "source": [
    "Person().gender # accessing the attribute of the class"
   ]
  },
  {
   "cell_type": "code",
   "execution_count": 70,
   "metadata": {},
   "outputs": [
    {
     "name": "stdout",
     "output_type": "stream",
     "text": [
      "Hi, my name is Umair Abid and I am Male\n"
     ]
    }
   ],
   "source": [
    "# pass by reference\n",
    "class Person:\n",
    "    # constructor\n",
    "    def __init__(self,name,gender):\n",
    "        self.name = name\n",
    "        self.gender = gender\n",
    "\n",
    "\n",
    " # method outside the class\n",
    "def greet(person): # we are passing by address the object  of the class\n",
    "    print(f\"Hi, my name is {person.name} and I am {person.gender}\")\n",
    "\n",
    "# object with a reference\n",
    "p = Person(\"Umair Abid\",\"Male\")\n",
    "greet(p) # calling the method of the class"
   ]
  }
 ],
 "metadata": {
  "kernelspec": {
   "display_name": "base",
   "language": "python",
   "name": "python3"
  },
  "language_info": {
   "codemirror_mode": {
    "name": "ipython",
    "version": 3
   },
   "file_extension": ".py",
   "mimetype": "text/x-python",
   "name": "python",
   "nbconvert_exporter": "python",
   "pygments_lexer": "ipython3",
   "version": "3.12.4"
  }
 },
 "nbformat": 4,
 "nbformat_minor": 2
}
