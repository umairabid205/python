{
 "cells": [
  {
   "cell_type": "code",
   "execution_count": null,
   "metadata": {},
   "outputs": [],
   "source": []
  },
  {
   "cell_type": "markdown",
   "metadata": {},
   "source": [
    "<h1>OOP</h1>\n",
    "\n",
    "--> Data Type is a class\n",
    "<br>--> When we create variables of that class is called object of that class\n",
    "<h3>For Example</h3>\n",
    "-->> class is creating blue print of list that how the list will work\n"
   ]
  },
  {
   "cell_type": "markdown",
   "metadata": {},
   "source": [
    "<h3>Class</h3>\n",
    "--> class is a blue print. How that blue print of object will work or behave."
   ]
  },
  {
   "cell_type": "code",
   "execution_count": 9,
   "metadata": {},
   "outputs": [],
   "source": [
    "# Class has two things\n",
    "# --> 1) Attributes\n",
    "# --> 2) Methods\n",
    "class Car:\n",
    "    color = \"red\" # Attribute\n",
    "    model = \"BMW\" # Attribute\n",
    "\n",
    "    # Method\n",
    "    def calculate_speed(self):\n",
    "        print(\"Speed is 100 mph\")"
   ]
  },
  {
   "cell_type": "markdown",
   "metadata": {},
   "source": [
    "<h1>Note:</h1>\n",
    "--> Name of class should be PascalCase for example ThisIsPascalCase<br>\n",
    "--> The name of attributes and mothods should be snake_case"
   ]
  },
  {
   "cell_type": "code",
   "execution_count": 10,
   "metadata": {},
   "outputs": [],
   "source": [
    "class Atm:\n",
    "\n",
    "    # constuctor\n",
    "    def __init__(self, pin,balance):\n",
    "        self.pin = pin\n",
    "        self.balance = balance\n",
    "\n",
    "    "
   ]
  },
  {
   "cell_type": "code",
   "execution_count": 11,
   "metadata": {},
   "outputs": [],
   "source": [
    "obj = Atm(1234,1000)"
   ]
  },
  {
   "cell_type": "code",
   "execution_count": 12,
   "metadata": {},
   "outputs": [
    {
     "name": "stdout",
     "output_type": "stream",
     "text": [
      "<class '__main__.Atm'>\n"
     ]
    }
   ],
   "source": [
    "print(type(obj))"
   ]
  },
  {
   "cell_type": "code",
   "execution_count": 13,
   "metadata": {},
   "outputs": [
    {
     "name": "stdout",
     "output_type": "stream",
     "text": [
      "1234\n",
      "1000\n"
     ]
    }
   ],
   "source": [
    "print(obj.pin)\n",
    "print(obj.balance)"
   ]
  },
  {
   "cell_type": "code",
   "execution_count": 24,
   "metadata": {},
   "outputs": [],
   "source": [
    "# impove the class\n",
    "class Atm:\n",
    "\n",
    "    # constuctor\n",
    "    def __init__(self):\n",
    "        self.pin = ''\n",
    "        self.balance = 0\n",
    "        self.menu()              # calling the menu method in the constructor\n",
    "\n",
    "    \n",
    "    # Method of menu which will display the menu\n",
    "    def menu(self):\n",
    "        user_input = input(\"\"\"\n",
    "        Hi, Welcome to the ATM\n",
    "        Please select an option:\n",
    "        1. Create Pin\n",
    "        2. Change Pin\n",
    "        3. Check Balance\n",
    "        4. Withdraw\n",
    "        5. Deposit \n",
    "        6. Exit\n",
    "                             \"\"\")\n",
    "        # calling the method based on the user input\n",
    "        if user_input == '1':\n",
    "            self.create_pin()\n",
    "        elif user_input == '2':\n",
    "            self.change_pin()\n",
    "        elif user_input == '3':\n",
    "            self.check_balance()\n",
    "        elif user_input == '4':\n",
    "            self.withdraw()\n",
    "        elif user_input == '5':\n",
    "            self.deposit()\n",
    "        elif user_input == '6':\n",
    "            self.exit()\n",
    "        else:\n",
    "            print(\"Invalid Input\")\n",
    "            \n",
    "\n",
    "    # Method to create pin\n",
    "    def create_pin(self):\n",
    "        self.pin = input(\"Enter a 4 digit pin: \")\n",
    "        print(\"Pin created successfully\")\n",
    "   \n",
    "    # Method to change pin\n",
    "    def change_pin(self):    \n",
    "        self.pin = input(\"Enter a 4 digit pin: \")\n",
    "        print(\"Pin changed successfully\")\n",
    "\n",
    "    # Method to check balance\n",
    "    def check_balance(self):\n",
    "        print(f\"Your balance is {self.balance}\")\n",
    "\n",
    "    # Method to withdraw\n",
    "    def withdraw(self):   \n",
    "        amount = input(\"Enter the amount you want to withdraw: \")\n",
    "        if int(amount) > int(self.balance):\n",
    "            print(\"Insufficient balance\")\n",
    "        else:\n",
    "            self.balance = int(self.balance) - int(amount)\n",
    "            print(\"Amount withdrawn successfully\")\n",
    "    # Method to deposit\n",
    "    def deposit(self):   \n",
    "        amount = input(\"Enter the amount you want to deposit: \")\n",
    "        self.balance = int(self.balance) + int(amount)\n",
    "        print(\"Amount deposited successfully\")\n",
    "\n",
    "    # Method to exit\n",
    "    def exit(self):\n",
    "        print(\"Thank you for using the ATM\")\n",
    "        exit()\n"
   ]
  },
  {
   "cell_type": "code",
   "execution_count": null,
   "metadata": {},
   "outputs": [],
   "source": [
    "obj= Atm()"
   ]
  },
  {
   "cell_type": "code",
   "execution_count": 28,
   "metadata": {},
   "outputs": [
    {
     "data": {
      "text/plain": [
       "1000"
      ]
     },
     "execution_count": 28,
     "metadata": {},
     "output_type": "execute_result"
    }
   ],
   "source": [
    "obj.balance"
   ]
  },
  {
   "cell_type": "code",
   "execution_count": null,
   "metadata": {},
   "outputs": [],
   "source": []
  }
 ],
 "metadata": {
  "kernelspec": {
   "display_name": "base",
   "language": "python",
   "name": "python3"
  },
  "language_info": {
   "codemirror_mode": {
    "name": "ipython",
    "version": 3
   },
   "file_extension": ".py",
   "mimetype": "text/x-python",
   "name": "python",
   "nbconvert_exporter": "python",
   "pygments_lexer": "ipython3",
   "version": "3.12.4"
  }
 },
 "nbformat": 4,
 "nbformat_minor": 2
}
